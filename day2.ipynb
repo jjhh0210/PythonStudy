{
 "cells": [
  {
   "cell_type": "markdown",
   "id": "595c5f29",
   "metadata": {},
   "source": [
    "# Python 자료구조 실습"
   ]
  },
  {
   "cell_type": "markdown",
   "id": "9bf16d97",
   "metadata": {},
   "source": [
    "### 미니1) 리스트 원소의 최솟값 구하기"
   ]
  },
  {
   "cell_type": "code",
   "execution_count": 52,
   "id": "fdbb376f",
   "metadata": {},
   "outputs": [
    {
     "name": "stdout",
     "output_type": "stream",
     "text": [
      "2\n",
      "a\n",
      "AAC\n"
     ]
    }
   ],
   "source": [
    "def min_of(a):\n",
    "    min = a[0]\n",
    "    for i in range(1,len(a)) :\n",
    "        if a[i] < min : min = a[i]\n",
    "    return min\n",
    "\n",
    "t=(4,7,5.6,2,3.14,5) #튜플\n",
    "s ='abcdefg'\n",
    "a = ['DTS','AAC','FLAC']\n",
    "\n",
    "print(min_of(t))\n",
    "print(min_of(s))\n",
    "print(min_of(a))"
   ]
  },
  {
   "cell_type": "code",
   "execution_count": 25,
   "id": "d175e1e0",
   "metadata": {},
   "outputs": [
    {
     "name": "stdout",
     "output_type": "stream",
     "text": [
      "[5, 4, 3, 2, 1]\n"
     ]
    }
   ],
   "source": [
    "# 리스트 원소들을 역순으로 정렬하기\n",
    "\n",
    "def reverse_list(a):\n",
    "    n = len(a)\n",
    "    for i in range(n//2):\n",
    "        a[i],a[n-1-i] = a[n-1-i],a[i]\n",
    "        \n",
    "\n",
    "a=[1,2,3,4,5]\n",
    "reverse_list(a)\n",
    "print(a)"
   ]
  },
  {
   "cell_type": "markdown",
   "id": "c6146473",
   "metadata": {},
   "source": [
    "### 미니2) 리스트를 사용자로부터 입력받아서 역순정렬하여 리스트의 원소 출력"
   ]
  },
  {
   "cell_type": "code",
   "execution_count": 37,
   "id": "87a03749",
   "metadata": {},
   "outputs": [
    {
     "name": "stdout",
     "output_type": "stream",
     "text": [
      "리스트를 역순으로 출력합니다.\n",
      "원소 수를 입력하세요. :5\n",
      "x[0]값을 입력하세요.:a\n",
      "x[1]값을 입력하세요.:b\n",
      "x[2]값을 입력하세요.:1\n",
      "x[3]값을 입력하세요.:2\n",
      "x[4]값을 입력하세요.:3\n",
      "a[0] = 3\n",
      "a[1] = 2\n",
      "a[2] = 1\n",
      "a[3] = b\n",
      "a[4] = a\n"
     ]
    }
   ],
   "source": [
    "def reverse_list(a):\n",
    "    n = len(a)\n",
    "    for i in range(n//2):\n",
    "        a[i],a[n-1-i] = a[n-1-i],a[i]\n",
    "\n",
    "print(\"리스트를 역순으로 출력합니다.\")\n",
    "n = int(input(\"원소 수를 입력하세요. :\"))\n",
    "a = [None]*n #비어있는 리스트 선언\n",
    "for i in range(n):\n",
    "    item = input(\"x[{}]값을 입력하세요.:\".format(i))\n",
    "    a.append(item)    #원소 추가하려면 append!!!\n",
    "reverse_list(a)\n",
    "\n",
    "for i in range(n):\n",
    "    print(\"a[{}] = {}\".format(i,a[i]))"
   ]
  },
  {
   "cell_type": "code",
   "execution_count": 36,
   "id": "e18a80c0",
   "metadata": {},
   "outputs": [
    {
     "name": "stdout",
     "output_type": "stream",
     "text": [
      "[]\n",
      "[None, None, None]\n"
     ]
    }
   ],
   "source": [
    "a = []\n",
    "b = [None]*3\n",
    "\n",
    "print(a)\n",
    "print(b)"
   ]
  },
  {
   "cell_type": "markdown",
   "id": "4da849dc",
   "metadata": {},
   "source": [
    "### 미니3) while로 선형검색을 하는경우, 그냥 하는 경우와 보초법 사용하는 경우 if문 실행횟수"
   ]
  },
  {
   "cell_type": "code",
   "execution_count": 46,
   "id": "c5ba2037",
   "metadata": {},
   "outputs": [
    {
     "name": "stdout",
     "output_type": "stream",
     "text": [
      "선형검색법 : (13, 6)\n",
      "보초검색법 : (7, 6) \n"
     ]
    }
   ],
   "source": [
    "a = [2,5,1,3,9,6,7]\n",
    "key = 7\n",
    "\n",
    "def search(a,key):\n",
    "    cnt=0\n",
    "    i=0\n",
    "    while True :\n",
    "        cnt+=1\n",
    "        if a[i] == key :\n",
    "            return cnt,i\n",
    "        cnt+=1\n",
    "        if i == len(a):\n",
    "            return cnt,-1\n",
    "        i+=1\n",
    "\n",
    "def search_sentinel(a,key):\n",
    "    b = a.copy()\n",
    "    \n",
    "    b.append(key)\n",
    "    i = 0\n",
    "    cnt2 = 0\n",
    "    while True :\n",
    "        cnt2+=1\n",
    "        if b[i] ==key :\n",
    "            break\n",
    "        i+=1\n",
    "    return cnt2, -1 if i==len(b) else i\n",
    "\n",
    "print(\"선형검색법 : {}\".format(search(a,key)))\n",
    "print(\"보초검색법 : {} \".format(search_sentinel(a,key)))\n",
    "\n",
    "\n",
    "        "
   ]
  },
  {
   "cell_type": "markdown",
   "id": "ce98d6e1",
   "metadata": {},
   "source": [
    "### 실습3) 검색 알고리즘 구현해보기"
   ]
  },
  {
   "cell_type": "code",
   "execution_count": 9,
   "id": "f1bbbe05",
   "metadata": {},
   "outputs": [
    {
     "name": "stdout",
     "output_type": "stream",
     "text": [
      "리스트를 입력하세요.:2 2 2 2 2 \n",
      "['2', '2', '2', '2', '2']\n",
      "키를 입력하세요.:2\n",
      "위치 : 2 \n"
     ]
    }
   ],
   "source": [
    "def binarySearch(arr,key) :\n",
    "    #1. 포인터들 세팅\n",
    "    l=0\n",
    "    r=len(arr)-1\n",
    "    while l<=r :\n",
    "        mid = (l+r)//2\n",
    "        if arr[mid] == key:\n",
    "            return mid\n",
    "        elif arr[mid] < key :\n",
    "            l = mid+1\n",
    "        else :\n",
    "            r = mid-1\n",
    "    return -1\n",
    "    \n",
    "arr = input(\"리스트를 입력하세요.:\").split()\n",
    "\n",
    "# 리스트 정렬\n",
    "arr.sort()\n",
    "print(arr)\n",
    "\n",
    "key = input(\"키를 입력하세요.:\")\n",
    "\n",
    "# 키 검색\n",
    "idx = binarySearch(arr,key)\n",
    "if idx == -1:\n",
    "    print(\"찾을 수 없습니다.\")\n",
    "else:\n",
    "    print(\"위치 : {} \".format(idx))\n",
    "    "
   ]
  },
  {
   "cell_type": "markdown",
   "id": "53b5c47c",
   "metadata": {},
   "source": [
    "### 실습1) 2~1000 사이의 수 중 소수를 리스트에 입력하고 출력"
   ]
  },
  {
   "cell_type": "code",
   "execution_count": 17,
   "id": "6c066c1d",
   "metadata": {},
   "outputs": [
    {
     "name": "stdout",
     "output_type": "stream",
     "text": [
      "[2, 3, 5, 7, 11, 13, 17, 19, 23, 29, 31, 37, 41, 43, 47, 53, 59, 61, 67, 71, 73, 79, 83, 89, 97, 101, 103, 107, 109, 113, 127, 131, 137, 139, 149, 151, 157, 163, 167, 173, 179, 181, 191, 193, 197, 199, 211, 223, 227, 229, 233, 239, 241, 251, 257, 263, 269, 271, 277, 281, 283, 293, 307, 311, 313, 317, 331, 337, 347, 349, 353, 359, 367, 373, 379, 383, 389, 397, 401, 409, 419, 421, 431, 433, 439, 443, 449, 457, 461, 463, 467, 479, 487, 491, 499, 503, 509, 521, 523, 541, 547, 557, 563, 569, 571, 577, 587, 593, 599, 601, 607, 613, 617, 619, 631, 641, 643, 647, 653, 659, 661, 673, 677, 683, 691, 701, 709, 719, 727, 733, 739, 743, 751, 757, 761, 769, 773, 787, 797, 809, 811, 821, 823, 827, 829, 839, 853, 857, 859, 863, 877, 881, 883, 887, 907, 911, 919, 929, 937, 941, 947, 953, 967, 971, 977, 983, 991, 997]\n"
     ]
    }
   ],
   "source": [
    "#에라토스테네스 채를 이용해서 빨리 구하기\n",
    "prime = []\n",
    "ch = [0]*1001\n",
    "for i in range(2,len(ch)):\n",
    "    #소수일 경우\n",
    "    if ch[i] == 0:# 0이면 소수이므로 i의 모든 배수에 다 1로 체크한다\n",
    "        prime.append(i)\n",
    "        for j in range(i*2,len(ch),i):\n",
    "            ch[j] = 1\n",
    "print(prime)\n",
    "            "
   ]
  },
  {
   "cell_type": "code",
   "execution_count": 14,
   "id": "e1d20b28",
   "metadata": {},
   "outputs": [
    {
     "name": "stdout",
     "output_type": "stream",
     "text": [
      "[2, 3, 5, 7, 11, 13, 17, 19, 23, 29, 31, 37, 41, 43, 47, 53, 59, 61, 67, 71, 73, 79, 83, 89, 97, 101, 103, 107, 109, 113, 127, 131, 137, 139, 149, 151, 157, 163, 167, 173, 179, 181, 191, 193, 197, 199, 211, 223, 227, 229, 233, 239, 241, 251, 257, 263, 269, 271, 277, 281, 283, 293, 307, 311, 313, 317, 331, 337, 347, 349, 353, 359, 367, 373, 379, 383, 389, 397, 401, 409, 419, 421, 431, 433, 439, 443, 449, 457, 461, 463, 467, 479, 487, 491, 499, 503, 509, 521, 523, 541, 547, 557, 563, 569, 571, 577, 587, 593, 599, 601, 607, 613, 617, 619, 631, 641, 643, 647, 653, 659, 661, 673, 677, 683, 691, 701, 709, 719, 727, 733, 739, 743, 751, 757, 761, 769, 773, 787, 797, 809, 811, 821, 823, 827, 829, 839, 853, 857, 859, 863, 877, 881, 883, 887, 907, 911, 919, 929, 937, 941, 947, 953, 967, 971, 977, 983, 991, 997]\n"
     ]
    }
   ],
   "source": [
    "# 단순 이중for문으로 구하기 -> 1과 나를 제외한 모든 수로 나누어 본다.\n",
    "prime = []\n",
    "\n",
    "for n in range(2,1001):\n",
    "    flag=0\n",
    "    for i in range(2,n):#2~n-1까지의 수로 나를 나눠봄\n",
    "        if n%i==0 :\n",
    "            flag=1\n",
    "            break\n",
    "    if flag == 0 :\n",
    "        prime.append(n)\n",
    "\n",
    "print(prime)\n",
    "        "
   ]
  },
  {
   "cell_type": "markdown",
   "id": "e854f690",
   "metadata": {},
   "source": [
    "### 실습4) 리스트를 사용자로부터 입력 받아서 최대값과 최소값이 있는 인덱스를 출력하라"
   ]
  },
  {
   "cell_type": "code",
   "execution_count": 37,
   "id": "ef364071",
   "metadata": {},
   "outputs": [
    {
     "name": "stdout",
     "output_type": "stream",
     "text": [
      "리스트를 입력하세요.:6 1 9\n",
      "['6', '1', '9']\n",
      "최댓값위치 : 2 \n",
      "최솟값위치 : 1 \n"
     ]
    }
   ],
   "source": [
    "def search(arr,key) :\n",
    "    for i in range(0,len(arr)):\n",
    "        if arr[i] == key:\n",
    "            return i\n",
    "    return -1\n",
    "    \n",
    "    \n",
    "arr = input(\"리스트를 입력하세요.:\").split()\n",
    "copy = arr.copy()\n",
    "# 리스트 정렬\n",
    "copy.sort()\n",
    "min = copy[0]\n",
    "max = copy[-1]\n",
    "\n",
    "print(arr)\n",
    "\n",
    "# 키 검색\n",
    "maxIdx = search(arr,max)\n",
    "minIdx = search(arr,min)\n",
    "print(\"최댓값위치 : {} \".format(maxIdx))\n",
    "print(\"최솟값위치 : {} \".format(minIdx))"
   ]
  },
  {
   "cell_type": "code",
   "execution_count": 35,
   "id": "8a7158f5",
   "metadata": {},
   "outputs": [
    {
     "name": "stdout",
     "output_type": "stream",
     "text": [
      "리스트를 입력하세요.:5 6 1\n",
      "max = 6, idx = 1\n",
      "min = 1, idx = 2\n"
     ]
    }
   ],
   "source": [
    "#최대최소, 각각인덱스 한번에 다 찾기 - Good\n",
    "\n",
    "def find(a) :\n",
    "    n = len(a) # 원소의 개수\n",
    "    maximum = a[0]\n",
    "    minimum = a[n-1]\n",
    "    maxIdx = 0\n",
    "    minIdx = n-1\n",
    "    for i in range(0,n):\n",
    "        if maximum < a[i]:\n",
    "            maximum = a[i]\n",
    "            maxIdx = i\n",
    "        if minimum > a[i]:\n",
    "            minimum = a[i]\n",
    "            minIdx = i\n",
    "    return maximum, maxIdx, minimum, minIdx\n",
    "\n",
    "a = input(\"리스트를 입력하세요.:\").split()\n",
    "maximum,maxIdx,minimum,minIdx = find(a)\n",
    "print(\"max = {}, idx = {}\".format(maximum,maxIdx))\n",
    "print(\"min = {}, idx = {}\".format(minimum,minIdx))"
   ]
  },
  {
   "cell_type": "markdown",
   "id": "85c5605e",
   "metadata": {},
   "source": [
    "## 추가실습"
   ]
  },
  {
   "cell_type": "markdown",
   "id": "f27933f8",
   "metadata": {},
   "source": [
    "### Q1 로또 (https://programmers.co.kr/learn/courses/30/lessons/77484)"
   ]
  },
  {
   "cell_type": "code",
   "execution_count": 40,
   "id": "b92cde1c",
   "metadata": {},
   "outputs": [
    {
     "name": "stdout",
     "output_type": "stream",
     "text": [
      "[3, 5]\n"
     ]
    }
   ],
   "source": [
    "# Q1 Answer template\n",
    "\n",
    "def rank(x) : # x = 일치하는 번호의 개수\n",
    "    if x <=1 :\n",
    "        return 6\n",
    "    else :\n",
    "        return 6-x+1 \n",
    "\n",
    "def solution(lottos, win_nums):\n",
    "    answer = []\n",
    "    #정렬\n",
    "    lottos.sort()\n",
    "    win_nums.sort()\n",
    "    \n",
    "    #공통 원소 찾기\n",
    "    i=0\n",
    "    j=0\n",
    "    cnt = 0 #맞은 개수\n",
    "    zeros = 0 #0 개수\n",
    "    \n",
    "    while i<6 and j<6 :\n",
    "        if lottos[i]==0 :\n",
    "            zeros+=1\n",
    "            i+=1\n",
    "        else:\n",
    "            if lottos[i] == win_nums[j] :\n",
    "                i+=1\n",
    "                j+=1\n",
    "                cnt+=1\n",
    "            elif lottos[i] > win_nums[j]:\n",
    "                j+=1\n",
    "            else :\n",
    "                i+=1\n",
    "    \n",
    "    #print(cnt,zeros)\n",
    "\n",
    "    maxRank = rank(cnt+zeros)\n",
    "    minRank = rank(cnt)\n",
    "    answer.extend([maxRank,minRank])\n",
    "\n",
    "    \n",
    "    return answer\n",
    "\n",
    "lottos = [44, 1, 0, 0, 31, 25]\n",
    "win_nums = [31, 10, 45, 1, 6, 19]\n",
    "answer = solution(lottos, win_nums)\n",
    "print(answer)"
   ]
  },
  {
   "cell_type": "markdown",
   "id": "2c4d19d3",
   "metadata": {},
   "source": [
    "### Q3 (programmers)\n",
    "\n",
    "### 컴퓨터 매장에는 n개의 부품이 있으며, 부품마다 정수 형태의 고유한 번호가 있다. 어느 날 손님이 m개 종류의 부품을 대량으로 구매하겠다며 부품의 재고유무를 문의하였다. 매장에 부품 재고가 있는지 확인하는 프로그램을 작성하라. \n",
    "\n",
    "### 매장이 가지고 있는 부품 리스트와 고객이 확인하고자 하는 부품 리스트를 입력받는다. 고객이 요청한 부품 번호의 순서대로 부품을 확인해 부품이 있으면 yes, 없으면 no를 출력한다. \n",
    "\n",
    "### 제한사항\n",
    "- 부품 재고의 갯수는 고려하지 않으며 부품이 있는지 여부만 체크한다\n",
    "- 부품 리스트 길이(n, m)는 1이상, 15이하입니다.\n",
    "- 매장 보유 부품 번호는 오름차순으로 정렬된 형태로 입력한다.\n",
    "- 부품 리스트의 원소는 100 이하인 자연수입니다.\n",
    "\n",
    "\n",
    "### 입출력 예\n",
    "|store | customer | answer\n",
    "|------|----------|-------\n",
    "|[2,3,7,8,9]|[7,5,9]|['yes', 'no', 'yes']\n",
    "|[1,2,3,7,8]|[1,5,8,4,6]|['yes', 'no', 'yes', 'no', 'no']\n"
   ]
  },
  {
   "cell_type": "code",
   "execution_count": null,
   "id": "f7406153",
   "metadata": {},
   "outputs": [],
   "source": [
    "# Q3 answer template\n",
    "\n",
    "def solution(store, customer):\n",
    "    answer = []\n",
    "    cust_dict = {}\n",
    "    for i in rannge(len(customer)):\n",
    "        cust_dict[customer[i]] = i\n",
    "    print(cust_dict)\n",
    "    \n",
    "    i=0\n",
    "    j=0\n",
    "    n = len(store)\n",
    "    m = len(customer)\n",
    "    while i< n and j < m:\n",
    "        if store[i]==store[j]:\n",
    "            \n",
    "        \n",
    "    \n",
    "    return answer\n",
    "\n",
    "store = [2,3,7,8,9]\n",
    "customer = [7,5,9]\n",
    "answer = solution(store, customer)\n",
    "print(answer)"
   ]
  },
  {
   "cell_type": "markdown",
   "id": "4b49f6ec",
   "metadata": {},
   "source": [
    "### Q6 (https://programmers.co.kr/learn/courses/30/lessons/12935)\n",
    "\n",
    "### 정수를 저장한 배열, arr 에서 가장 작은 수를 제거한 배열을 리턴하는 함수, solution을 완성해주세요. 단, 리턴하려는 배열이 빈 배열인 경우엔 배열에 -1을 채워 리턴하세요. 예를들어 arr이 [4,3,2,1]인 경우는 [4,3,2]를 리턴 하고, [10]면 [-1]을 리턴 합니다.\n",
    "\n",
    "### 제한 조건\n",
    "- arr은 길이 1 이상인 배열입니다.\n",
    "- 인덱스 i, j에 대해 i ≠ j이면 arr[i] ≠ arr[j] 입니다.\n",
    "\n",
    "### 입출력 예\n",
    "|arr |return\n",
    "|----|----\n",
    "|[4,3,2,1] |[4,3,2]\n",
    "|[10] |[-1]\n",
    "\n",
    "\n",
    "### 리스트에서 원소 제거 함수\n",
    "- a.pop(0) : 0번 인덱스의 원소가 제거됨\n",
    "- a.remove(10) : 10 값을 가진 원소가 제거됨, 10이라는 값이 여러개라면 맨 처음에 있는 것만 제거됨"
   ]
  },
  {
   "cell_type": "code",
   "execution_count": 44,
   "id": "a677fe1a",
   "metadata": {},
   "outputs": [
    {
     "name": "stdout",
     "output_type": "stream",
     "text": [
      "[4, 3, 2]\n"
     ]
    }
   ],
   "source": [
    "# Q6 Answer template\n",
    "\n",
    "def solution(arr):\n",
    "    \n",
    "    min = arr[0]\n",
    "    for i in arr:\n",
    "        if min > i :\n",
    "            min = i\n",
    "    arr.remove(min)\n",
    "    \n",
    "    return [-1] if len(arr)==0 else arr\n",
    "\n",
    "arr = [4, 3, 2, 1]\n",
    "answer = solution(arr)\n",
    "print(answer)"
   ]
  },
  {
   "cell_type": "code",
   "execution_count": 47,
   "id": "c12726bd",
   "metadata": {},
   "outputs": [
    {
     "ename": "TypeError",
     "evalue": "'str' object is not callable",
     "output_type": "error",
     "traceback": [
      "\u001b[1;31m---------------------------------------------------------------------------\u001b[0m",
      "\u001b[1;31mTypeError\u001b[0m                                 Traceback (most recent call last)",
      "\u001b[1;32m~\\AppData\\Local\\Temp\\ipykernel_7796\\1183013311.py\u001b[0m in \u001b[0;36m<module>\u001b[1;34m\u001b[0m\n\u001b[0;32m     10\u001b[0m \u001b[1;33m\u001b[0m\u001b[0m\n\u001b[0;32m     11\u001b[0m \u001b[0marr\u001b[0m \u001b[1;33m=\u001b[0m \u001b[1;33m[\u001b[0m\u001b[1;36m4\u001b[0m\u001b[1;33m,\u001b[0m \u001b[1;36m3\u001b[0m\u001b[1;33m,\u001b[0m \u001b[1;36m2\u001b[0m\u001b[1;33m,\u001b[0m \u001b[1;36m1\u001b[0m\u001b[1;33m]\u001b[0m\u001b[1;33m\u001b[0m\u001b[1;33m\u001b[0m\u001b[0m\n\u001b[1;32m---> 12\u001b[1;33m \u001b[0manswer\u001b[0m \u001b[1;33m=\u001b[0m \u001b[0msolution\u001b[0m\u001b[1;33m(\u001b[0m\u001b[0marr\u001b[0m\u001b[1;33m)\u001b[0m\u001b[1;33m\u001b[0m\u001b[1;33m\u001b[0m\u001b[0m\n\u001b[0m\u001b[0;32m     13\u001b[0m \u001b[0mprint\u001b[0m\u001b[1;33m(\u001b[0m\u001b[0manswer\u001b[0m\u001b[1;33m)\u001b[0m\u001b[1;33m\u001b[0m\u001b[1;33m\u001b[0m\u001b[0m\n",
      "\u001b[1;32m~\\AppData\\Local\\Temp\\ipykernel_7796\\1183013311.py\u001b[0m in \u001b[0;36msolution\u001b[1;34m(arr)\u001b[0m\n\u001b[0;32m      3\u001b[0m \u001b[1;32mdef\u001b[0m \u001b[0msolution\u001b[0m\u001b[1;33m(\u001b[0m\u001b[0marr\u001b[0m\u001b[1;33m)\u001b[0m\u001b[1;33m:\u001b[0m\u001b[1;33m\u001b[0m\u001b[1;33m\u001b[0m\u001b[0m\n\u001b[0;32m      4\u001b[0m \u001b[1;33m\u001b[0m\u001b[0m\n\u001b[1;32m----> 5\u001b[1;33m     \u001b[0marr\u001b[0m\u001b[1;33m.\u001b[0m\u001b[0mremove\u001b[0m\u001b[1;33m(\u001b[0m\u001b[0mmin\u001b[0m\u001b[1;33m(\u001b[0m\u001b[0marr\u001b[0m\u001b[1;33m)\u001b[0m\u001b[1;33m)\u001b[0m\u001b[1;33m\u001b[0m\u001b[1;33m\u001b[0m\u001b[0m\n\u001b[0m\u001b[0;32m      6\u001b[0m     \u001b[1;32mif\u001b[0m \u001b[1;32mnot\u001b[0m \u001b[0marr\u001b[0m\u001b[1;33m:\u001b[0m \u001b[1;31m#arr가 비어있다면 (len(arr)==0)\u001b[0m\u001b[1;33m\u001b[0m\u001b[1;33m\u001b[0m\u001b[0m\n\u001b[0;32m      7\u001b[0m         \u001b[1;32mreturn\u001b[0m \u001b[1;33m[\u001b[0m\u001b[1;33m-\u001b[0m\u001b[1;36m1\u001b[0m\u001b[1;33m]\u001b[0m\u001b[1;33m\u001b[0m\u001b[1;33m\u001b[0m\u001b[0m\n",
      "\u001b[1;31mTypeError\u001b[0m: 'str' object is not callable"
     ]
    }
   ],
   "source": [
    "#잘 작동됨~\n",
    "\n",
    "def solution(arr):\n",
    "    \n",
    "    arr.remove(min(arr))\n",
    "    if not arr: #arr가 비어있다면 (len(arr)==0)\n",
    "        return [-1]\n",
    "    else:\n",
    "        return arr\n",
    "\n",
    "arr = [4, 3, 2, 1]\n",
    "answer = solution(arr)\n",
    "print(answer)"
   ]
  },
  {
   "cell_type": "markdown",
   "id": "50db58f3",
   "metadata": {},
   "source": [
    "### Q7 (https://programmers.co.kr/learn/courses/30/lessons/12906)\n",
    "\n",
    "### 배열 arr가 주어집니다. 배열 arr의 각 원소는 숫자 0부터 9까지로 이루어져 있습니다. 이때, 배열 arr에서 연속적으로 나타나는 숫자는 하나만 남기고 전부 제거하려고 합니다. 단, 제거된 후 남은 수들을 반환할 때는 배열 arr의 원소들의 순서를 유지해야 합니다. 예를 들면,\n",
    "\n",
    "- arr = [1, 1, 3, 3, 0, 1, 1] 이면 [1, 3, 0, 1] 을 return 합니다.\n",
    "- arr = [4, 4, 4, 3, 3] 이면 [4, 3] 을 return 합니다.\n",
    "\n",
    "### 배열 arr에서 연속적으로 나타나는 숫자는 제거하고 남은 수들을 return 하는 solution 함수를 완성해 주세요.\n",
    "\n",
    "### 제한사항\n",
    "- 배열 arr의 크기 : 1,000,000 이하의 자연수\n",
    "- 배열 arr의 원소의 크기 : 0보다 크거나 같고 9보다 작거나 같은 정수\n",
    "\n",
    "### 입출력 예\n",
    "|arr |answer\n",
    "|----|------\n",
    "|[1,1,3,3,0,1,1] |[1,3,0,1]\n",
    "|[4,4,4,3,3]     |[4,3]\n",
    "\n",
    "### 입출력 예 설명\n",
    "- 입출력 예 #1,2\n",
    "- 문제의 예시와 같습니다."
   ]
  },
  {
   "cell_type": "code",
   "execution_count": 51,
   "id": "7b4f2ce4",
   "metadata": {},
   "outputs": [
    {
     "name": "stdout",
     "output_type": "stream",
     "text": [
      "[1, 3, 0, 1]\n"
     ]
    }
   ],
   "source": [
    "# Q7 Answer Template\n",
    "\n",
    "def solution(arr):\n",
    "    answer = []\n",
    "    prev = arr[0]\n",
    "    answer.append(prev)\n",
    "    for i in range(1,len(arr)):\n",
    "        if arr[i]!=prev:\n",
    "            answer.append(arr[i])\n",
    "            prev = arr[i]\n",
    "    return answer\n",
    "\n",
    "arr = [1,1,3,3,0,1,1]\n",
    "# arr = [4,4,4,3,3]\n",
    "answer = solution(arr)\n",
    "print(answer)"
   ]
  },
  {
   "cell_type": "code",
   "execution_count": null,
   "id": "15f4ca06",
   "metadata": {},
   "outputs": [],
   "source": []
  }
 ],
 "metadata": {
  "kernelspec": {
   "display_name": "Python 3 (ipykernel)",
   "language": "python",
   "name": "python3"
  },
  "language_info": {
   "codemirror_mode": {
    "name": "ipython",
    "version": 3
   },
   "file_extension": ".py",
   "mimetype": "text/x-python",
   "name": "python",
   "nbconvert_exporter": "python",
   "pygments_lexer": "ipython3",
   "version": "3.7.16"
  }
 },
 "nbformat": 4,
 "nbformat_minor": 5
}
