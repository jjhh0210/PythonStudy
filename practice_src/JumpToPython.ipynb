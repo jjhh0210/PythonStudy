{
 "cells": [
  {
   "cell_type": "markdown",
   "metadata": {},
   "source": [
    "# 02.자료형"
   ]
  },
  {
   "cell_type": "markdown",
   "metadata": {
    "tags": []
   },
   "source": [
    "## 02-2 문자열 자료형"
   ]
  },
  {
   "cell_type": "code",
   "execution_count": 3,
   "metadata": {},
   "outputs": [
    {
     "name": "stdout",
     "output_type": "stream",
     "text": [
      "Python's favorite food is perl\n"
     ]
    }
   ],
   "source": [
    "#작은 따옴표를 문자열에 포함시키려면 - 큰따옴표 사용\n",
    "food = \"Python's favorite food is perl\"\n",
    "print(food)"
   ]
  },
  {
   "cell_type": "code",
   "execution_count": 4,
   "metadata": {},
   "outputs": [
    {
     "name": "stdout",
     "output_type": "stream",
     "text": [
      "\"python is good\" he says\n"
     ]
    }
   ],
   "source": [
    "#큰 따옴표를 문자열에 포함시키려면 - 작은따옴표 사용\n",
    "say = '\"python is good\" he says'\n",
    "print(say)"
   ]
  },
  {
   "cell_type": "code",
   "execution_count": 5,
   "metadata": {},
   "outputs": [
    {
     "name": "stdout",
     "output_type": "stream",
     "text": [
      "Python's favorite food is perl\n",
      "\"python is good. \" he says.\n"
     ]
    }
   ],
   "source": [
    "# \\' or \\\"  로 따옴표 포함시키기\n",
    "food = 'Python\\'s favorite food is perl'\n",
    "say = \"\\\"python is good. \\\" he says.\"\n",
    "print(food)\n",
    "print(say)"
   ]
  },
  {
   "cell_type": "code",
   "execution_count": 7,
   "metadata": {},
   "outputs": [
    {
     "name": "stdout",
     "output_type": "stream",
     "text": [
      "life is too short\n",
      "you need python\n"
     ]
    }
   ],
   "source": [
    "#여러 줄의 문자열 변수에 대입하기 - \\n\n",
    "multiline = \"life is too short\\nyou need python\"\n",
    "print(multiline)"
   ]
  },
  {
   "cell_type": "code",
   "execution_count": 9,
   "metadata": {},
   "outputs": [
    {
     "name": "stdout",
     "output_type": "stream",
     "text": [
      "\n",
      "Life is too short\n",
      "you need python\n",
      "end\n",
      "\n"
     ]
    }
   ],
   "source": [
    "# 큰 or 작은 따옴표 3개 사용 - 훨씬 깔끔하다\n",
    "multiline = \"\"\"\n",
    "Life is too short\n",
    "you need python\n",
    "end\n",
    "\"\"\"\n",
    "print(multiline)"
   ]
  },
  {
   "cell_type": "markdown",
   "metadata": {},
   "source": [
    "- 문자열 연산 -> +(concat) , *(반복) 연산 가능"
   ]
  },
  {
   "cell_type": "code",
   "execution_count": 10,
   "metadata": {},
   "outputs": [
    {
     "name": "stdout",
     "output_type": "stream",
     "text": [
      "hi hello\n",
      "====================\n"
     ]
    }
   ],
   "source": [
    "print('hi'+' hello')\n",
    "print(\"=\"*20)"
   ]
  },
  {
   "cell_type": "code",
   "execution_count": 11,
   "metadata": {},
   "outputs": [
    {
     "data": {
      "text/plain": [
       "17"
      ]
     },
     "execution_count": 11,
     "metadata": {},
     "output_type": "execute_result"
    }
   ],
   "source": [
    "a=  \"life is too short\"\n",
    "len(a)"
   ]
  },
  {
   "cell_type": "markdown",
   "metadata": {},
   "source": [
    "- 문자열 인덱싱 -> a[번호]로 문자열안의 특정한 값을 뽑아내는 작업"
   ]
  },
  {
   "cell_type": "code",
   "execution_count": 17,
   "metadata": {},
   "outputs": [
    {
     "name": "stdout",
     "output_type": "stream",
     "text": [
      "L\n",
      "t\n",
      "L\n",
      "r\n"
     ]
    }
   ],
   "source": [
    "str = \"Life is too short\"\n",
    "print(str[0])\n",
    "print(str[-1])  #문자열을 뒤에서 부터 셈\n",
    "print(str[-0])  #-1인 이유는 str[-0] == str[0]이기 때문\n",
    "print(str[-2])"
   ]
  },
  {
   "cell_type": "markdown",
   "metadata": {},
   "source": [
    "- 문자열 슬라이싱 -> 문자열에서 연속된문자들을 뽑아낸다\n",
    "    - a[시작번호 : 끝번호] -> 끝은 포함 x"
   ]
  },
  {
   "cell_type": "code",
   "execution_count": 25,
   "metadata": {},
   "outputs": [
    {
     "name": "stdout",
     "output_type": "stream",
     "text": [
      "if\n",
      "ife is too short\n",
      "Lif\n",
      "Life is too short\n",
      "ife is too shor\n"
     ]
    }
   ],
   "source": [
    "print(str[1:3])\n",
    "print(str[1:]) #끝번호 생략 -> 문자열 끝까지 뽑아냄\n",
    "print(str[:3]) #시작번호 생략 -> 문자열 처음부터 끝 번호 전까지 뽑음\n",
    "print(str[:]) #첨부터 끝까지 뽑음\n",
    "print(str[1:-1]) #역시 str[-1]은 포함 x (1~-2까지 뽑음)"
   ]
  },
  {
   "cell_type": "code",
   "execution_count": 29,
   "metadata": {},
   "outputs": [
    {
     "name": "stdout",
     "output_type": "stream",
     "text": [
      "Python\n"
     ]
    }
   ],
   "source": [
    "# Pithon -> Python으로 바꾸려면?\n",
    "# 문자열 자료형은 요솟값을 바꿀 수 없다!! immutable 자료형이다\n",
    "# 슬라이싱 기법을 이용해 새 문자열을 만들어 주어야 한다\n",
    "a = \"Pithon\"\n",
    "b = a[:1] + 'y' + a[2:]\n",
    "print(b) "
   ]
  },
  {
   "cell_type": "markdown",
   "metadata": {},
   "source": [
    "- 문자열 포맷팅\n",
    "    - 문자열 안에 어떤 값을 삽입하는 방법"
   ]
  },
  {
   "cell_type": "code",
   "execution_count": 32,
   "metadata": {},
   "outputs": [
    {
     "name": "stdout",
     "output_type": "stream",
     "text": [
      "Error is 98%\n",
      "ss\n",
      "2 apples\n"
     ]
    }
   ],
   "source": [
    "print(\"Error is %d%%\" %98)\n",
    "print(\"%s\" %\"ss\")\n",
    "print(\"%s apples\" %2)"
   ]
  },
  {
   "cell_type": "code",
   "execution_count": 36,
   "metadata": {},
   "outputs": [
    {
     "name": "stdout",
     "output_type": "stream",
     "text": [
      "hi        I'm Jane\n",
      "hi I'm        Jane\n",
      "3.1235\n",
      "    3.1235\n"
     ]
    }
   ],
   "source": [
    "print(\"hi %10s Jane\" %\"I'm\")\n",
    "print(\"hi %-10s Jane\" %\"I'm\")\n",
    "print(\"%0.4f\" %3.12345)\n",
    "print(\"%10.4f\" %3.12345) #전체 길이 10개, 소수점 4개까지 출력"
   ]
  },
  {
   "cell_type": "code",
   "execution_count": 2,
   "metadata": {},
   "outputs": [
    {
     "name": "stdout",
     "output_type": "stream",
     "text": [
      "hi         jihyun\n",
      "        hi jihyun\n",
      "hi         jihyun\n",
      "    hi     jihyun\n",
      "====hi==== jihyun\n",
      "hi******** jihyun\n",
      "    3.1231\n",
      "{and}\n"
     ]
    }
   ],
   "source": [
    "# format함수를 이용한 포맷팅\n",
    "\n",
    "#문자\n",
    "print(\"{:10} jihyun\".format(\"hi\")) #default = 왼쪽 정렬, 전체10자리\n",
    "print(\"{:>10} jihyun\".format(\"hi\")) #오른쪽 정렬, 전체10자리\n",
    "print(\"{:<10} jihyun\".format(\"hi\")) #왼쪽 정렬, 전체10자리\n",
    "print(\"{:^10} jihyun\".format(\"hi\")) #가운데 정렬, 전체 10자리\n",
    "print(\"{:=^10} jihyun\".format(\"hi\")) #공백채우기(문자는 ^,<,>앞에!!), 전체 10자리\n",
    "print(\"{:*<10} jihyun\".format(\"hi\")) #공백채우기, 전체 10자리\n",
    "\n",
    "print(\"{:10.4f}\".format(3.123123))\n",
    "print(\"{{and}}\".format()) #{}그대로 쓰고 싶으면 {}안에 한번 더 쓰기"
   ]
  },
  {
   "cell_type": "code",
   "execution_count": 61,
   "metadata": {},
   "outputs": [
    {
     "name": "stdout",
     "output_type": "stream",
     "text": [
      "내년은 2024년이다.\n",
      "이름은 지현        이고, 나이는     26    이다.\n",
      "    3.1457 이다.\n"
     ]
    }
   ],
   "source": [
    "# f string 포맷팅 \n",
    "y=2023\n",
    "print(f'내년은 {y+1}년이다.') #변수값 참조 가능, 표현식 지원\n",
    "d = {'name':'지현','age':20}\n",
    "print(f'이름은 {d[\"name\"]:<10}이고, 나이는 {d[\"age\"]+6:^10}이다.')\n",
    "a = 3.14567899\n",
    "print(f'{a:10.4f} 이다.') #얘는 기본이 오른쪽 정렬임"
   ]
  },
  {
   "cell_type": "markdown",
   "metadata": {},
   "source": [
    "- 문자열 관련 함수\n",
    "    - 문자열 자료형은 자체적으로 함수를 갖고있다(문자열 내장 함수)"
   ]
  },
  {
   "cell_type": "code",
   "execution_count": 64,
   "metadata": {},
   "outputs": [
    {
     "name": "stdout",
     "output_type": "stream",
     "text": [
      "2\n",
      "1\n"
     ]
    }
   ],
   "source": [
    "# 문자세기 : count(세고싶은 문자 or 문자열) -> 개수 반환\n",
    "a = \"hobby\"\n",
    "print(a.count('b'))\n",
    "print(a.count('bb'))"
   ]
  },
  {
   "cell_type": "code",
   "execution_count": 69,
   "metadata": {},
   "outputs": [
    {
     "name": "stdout",
     "output_type": "stream",
     "text": [
      "2\n",
      "-1\n",
      "2\n"
     ]
    },
    {
     "ename": "ValueError",
     "evalue": "substring not found",
     "output_type": "error",
     "traceback": [
      "\u001b[1;31m---------------------------------------------------------------------------\u001b[0m",
      "\u001b[1;31mValueError\u001b[0m                                Traceback (most recent call last)",
      "Cell \u001b[1;32mIn[69], line 7\u001b[0m\n\u001b[0;32m      4\u001b[0m \u001b[39mprint\u001b[39m(a\u001b[39m.\u001b[39mfind(\u001b[39m'\u001b[39m\u001b[39mk\u001b[39m\u001b[39m'\u001b[39m)) \u001b[39m#없으면 -1 반환\u001b[39;00m\n\u001b[0;32m      6\u001b[0m \u001b[39mprint\u001b[39m(a\u001b[39m.\u001b[39mindex(\u001b[39m'\u001b[39m\u001b[39mth\u001b[39m\u001b[39m'\u001b[39m))\n\u001b[1;32m----> 7\u001b[0m \u001b[39mprint\u001b[39m(a\u001b[39m.\u001b[39;49mindex(\u001b[39m'\u001b[39;49m\u001b[39mk\u001b[39;49m\u001b[39m'\u001b[39;49m)) \u001b[39m#없으면 -1 반환\u001b[39;00m\n",
      "\u001b[1;31mValueError\u001b[0m: substring not found"
     ]
    }
   ],
   "source": [
    "# 문자 위치 찾기 : find(), index() -> 문자or문자열이 처음으로 나온 위치 반환\n",
    "a = \"Python is the BEST!!\"\n",
    "print(a.find('th'))\n",
    "print(a.find('k')) #없으면 -1 반환\n",
    "\n",
    "print(a.index('th'))\n",
    "print(a.index('k')) #없으면 오류 발생!! (find와의 차이점)"
   ]
  },
  {
   "cell_type": "code",
   "execution_count": 79,
   "metadata": {},
   "outputs": [
    {
     "name": "stdout",
     "output_type": "stream",
     "text": [
      "A,B,c,D\n",
      "123-def\n",
      "ddd----sss----fff\n"
     ]
    }
   ],
   "source": [
    "# 문자열 삽입 (숫자형은 x) : join\n",
    "print(\",\".join('ABcD'))\n",
    "print(\"-\".join([\"123\",\"def\"])) #리스트 사이에 문자열 삽입\n",
    "print(\"----\".join((\"ddd\",\"sss\",\"fff\"))) # 튜플 사이에 문자열 삽입"
   ]
  },
  {
   "cell_type": "code",
   "execution_count": 80,
   "metadata": {},
   "outputs": [
    {
     "name": "stdout",
     "output_type": "stream",
     "text": [
      "HELLO WORLD\n",
      "hello world\n"
     ]
    }
   ],
   "source": [
    "#소문자<->대문자로 : upper, lower\n",
    "a=\"hello WORLD\"\n",
    "print(a.upper())\n",
    "print(a.lower())"
   ]
  },
  {
   "cell_type": "code",
   "execution_count": 93,
   "metadata": {},
   "outputs": [
    {
     "name": "stdout",
     "output_type": "stream",
     "text": [
      "hi    \n",
      "     hi\n",
      "hi\n",
      "a*****==\n",
      "------a\n",
      "a\n"
     ]
    }
   ],
   "source": [
    "# 왼쪽 공백(or문자), 오른쪽 공백, 양쪽공백 지우기 : lstrip, rstrip, strip\n",
    "a = \"     hi    \"\n",
    "print(a.lstrip())\n",
    "print(a.rstrip())\n",
    "print(a.strip())\n",
    "b = \"------a*****==\"\n",
    "print(b.lstrip(\"-\"))\n",
    "print(b.rstrip(\"*=\"))\n",
    "print(b.strip(\"-*=\"))"
   ]
  },
  {
   "cell_type": "code",
   "execution_count": 46,
   "metadata": {},
   "outputs": [
    {
     "name": "stdout",
     "output_type": "stream",
     "text": [
      "asdf is too short\n"
     ]
    },
    {
     "data": {
      "text/plain": [
       "'Life is too short'"
      ]
     },
     "execution_count": 46,
     "metadata": {},
     "output_type": "execute_result"
    }
   ],
   "source": [
    "# 문자열 바꾸기 - replace(old, new)\n",
    "a = \"Life is too short\"\n",
    "print(a.replace(\"Life\",\"asdf\")) \n",
    "a.replace(\"Life\",\"asdf\")\n",
    "a    #문자열 자료형은 절대 원본 변경 불가!! 저장하려면 변수에 대입해야"
   ]
  },
  {
   "cell_type": "code",
   "execution_count": 96,
   "metadata": {},
   "outputs": [
    {
     "name": "stdout",
     "output_type": "stream",
     "text": [
      "['Life', 'is', 'too', 'short']\n",
      "['010', '1123', '1212']\n"
     ]
    }
   ],
   "source": [
    "#문자열 나누어 리스트로 만들기 - split(\"나눌기준문자\")\n",
    "print(a.split()) #디폴트 - 공백기준 split\n",
    "a = \"010-1123-1212\"\n",
    "print(a.split(\"-\"))"
   ]
  },
  {
   "cell_type": "markdown",
   "metadata": {},
   "source": [
    "## 02-3 리스트 자료형"
   ]
  },
  {
   "cell_type": "markdown",
   "metadata": {},
   "source": [
    "- 리스트는 숫자, 문자열, 리스트 등 어떠한 자료형도 포함시킬 수 있다."
   ]
  },
  {
   "cell_type": "markdown",
   "metadata": {},
   "source": [
    "### 리스트 인덱싱과 슬라이싱\n",
    "- 인덱싱"
   ]
  },
  {
   "cell_type": "code",
   "execution_count": 6,
   "metadata": {},
   "outputs": [
    {
     "name": "stdout",
     "output_type": "stream",
     "text": [
      "b\n"
     ]
    }
   ],
   "source": [
    "a = [1,2,3,['a','b','c']]\n",
    "\n",
    "#b 꺼내기\n",
    "print(a[-1][1])"
   ]
  },
  {
   "cell_type": "code",
   "execution_count": 7,
   "metadata": {},
   "outputs": [
    {
     "data": {
      "text/plain": [
       "'life'"
      ]
     },
     "execution_count": 7,
     "metadata": {},
     "output_type": "execute_result"
    }
   ],
   "source": [
    "a = [1,2,['a','b',['life','is']]]\n",
    "\n",
    "#삼중 구조의 리스트에서 life 꺼내기\n",
    "a[-1][-1][0]"
   ]
  },
  {
   "cell_type": "markdown",
   "metadata": {},
   "source": [
    "- 슬라이싱"
   ]
  },
  {
   "cell_type": "code",
   "execution_count": 10,
   "metadata": {},
   "outputs": [
    {
     "name": "stdout",
     "output_type": "stream",
     "text": [
      "[3, ['a', 'b', 'c'], 4]\n",
      "['a', 'b']\n"
     ]
    }
   ],
   "source": [
    "#중첩리스트에서 슬라이싱하기\n",
    "a = [1,2,3,['a','b','c'],4,5]\n",
    "\n",
    "print(a[2:5])\n",
    "print(a[3][:2])"
   ]
  },
  {
   "cell_type": "markdown",
   "metadata": {},
   "source": [
    "### 리스트 연산"
   ]
  },
  {
   "cell_type": "markdown",
   "metadata": {},
   "source": [
    "- 문자열과 마찬가지로 +로 리스트를 합칠 수 있고, *로 반복할 수 있다."
   ]
  },
  {
   "cell_type": "code",
   "execution_count": 16,
   "metadata": {},
   "outputs": [
    {
     "data": {
      "text/plain": [
       "[1, 2, 3, 1, 2, 3]"
      ]
     },
     "execution_count": 16,
     "metadata": {},
     "output_type": "execute_result"
    }
   ],
   "source": [
    "a = [1,2,3]\n",
    "b = [1,2,3]\n",
    "a+b"
   ]
  },
  {
   "cell_type": "code",
   "execution_count": 18,
   "metadata": {},
   "outputs": [],
   "source": [
    "c = a*3"
   ]
  },
  {
   "cell_type": "code",
   "execution_count": 19,
   "metadata": {},
   "outputs": [
    {
     "data": {
      "text/plain": [
       "9"
      ]
     },
     "execution_count": 19,
     "metadata": {},
     "output_type": "execute_result"
    }
   ],
   "source": [
    "len(c)"
   ]
  },
  {
   "cell_type": "code",
   "execution_count": 20,
   "metadata": {},
   "outputs": [
    {
     "data": {
      "text/plain": [
       "'3hi'"
      ]
     },
     "execution_count": 20,
     "metadata": {},
     "output_type": "execute_result"
    }
   ],
   "source": [
    "#정수/실수 -> 문자열 형변환 : str()\n",
    "str(a[2])+\"hi\""
   ]
  },
  {
   "cell_type": "markdown",
   "metadata": {},
   "source": [
    "### 리스트 수정과 삭제"
   ]
  },
  {
   "cell_type": "code",
   "execution_count": 26,
   "metadata": {},
   "outputs": [
    {
     "data": {
      "text/plain": [
       "[[1, 2, 3], ['a', 'b', 'c']]"
      ]
     },
     "execution_count": 26,
     "metadata": {},
     "output_type": "execute_result"
    }
   ],
   "source": [
    "#수정 - 대입하면됨\n",
    "a = [[1,2,3],['a','b',5]]\n",
    "a[1][-1] = 'c' #a[1][2]\n",
    "a"
   ]
  },
  {
   "cell_type": "code",
   "execution_count": 31,
   "metadata": {},
   "outputs": [
    {
     "name": "stdout",
     "output_type": "stream",
     "text": [
      "[1, 3]\n",
      "[1, 2, 5]\n"
     ]
    }
   ],
   "source": [
    "# 삭제 \n",
    "# 1) del함수(파이썬이 자체적으로 갖고있는 삭제 함수)\n",
    "a = [1,2,3]\n",
    "del a[1]  #del 객체\n",
    "print(a)\n",
    "\n",
    "# 2) 슬라이싱 기법으로 여러 개 삭제\n",
    "a = [1,2,3,4,5]\n",
    "del a[2:4]\n",
    "print(a)\n",
    "\n",
    "# 3) remove\n",
    "# 4) pop"
   ]
  },
  {
   "cell_type": "markdown",
   "metadata": {},
   "source": [
    "### 리스트 관련 함수\n",
    "굵은줄은 반환 값이 있음\n",
    "- append(x) : 요소를 맨 마지막에 추가\n",
    "- extend(리스트) : 리스트를 맨 마지막에 추가\n",
    "- sort() : 정렬\n",
    "- reverse() : 뒤집기\n",
    "- **index(요소) : 요소의 위치 반환**\n",
    "- insert(idx, item) :idx위치에 item삽입\n",
    "- remove(요소) : 처음으로 나오는 요소 삭제\n",
    "- **pop(위치) : i번째 요소 반환+삭제**\n",
    "- **count(요소) : 요소가 리스트 안에 몇개 있는지 개수 반환**"
   ]
  },
  {
   "cell_type": "code",
   "execution_count": 34,
   "metadata": {},
   "outputs": [
    {
     "name": "stdout",
     "output_type": "stream",
     "text": [
      "[1, 2, 3, 4]\n",
      "[1, 'a', 2, 3, 4]\n"
     ]
    }
   ],
   "source": [
    "#insert 실습\n",
    "\n",
    "a = [1,2,3]\n",
    "a.insert(5,4) #위치가 outofidx이면 그냥 맨 마지막에 넣음\n",
    "print(a)\n",
    "a.insert(1,'a')\n",
    "print(a)"
   ]
  },
  {
   "cell_type": "code",
   "execution_count": 36,
   "metadata": {},
   "outputs": [
    {
     "name": "stdout",
     "output_type": "stream",
     "text": [
      "2\n",
      "[1, 3]\n"
     ]
    }
   ],
   "source": [
    "# pop 실습\n",
    "a = [1,2,3]\n",
    "print(a.pop(1))\n",
    "print(a)"
   ]
  },
  {
   "cell_type": "code",
   "execution_count": 47,
   "metadata": {},
   "outputs": [
    {
     "name": "stdout",
     "output_type": "stream",
     "text": [
      "3\n"
     ]
    },
    {
     "data": {
      "text/plain": [
       "[1, 2, 3, 1, 1, 4, 5]"
      ]
     },
     "execution_count": 47,
     "metadata": {},
     "output_type": "execute_result"
    }
   ],
   "source": [
    "#count\n",
    "a = [1,2,3,1,1]\n",
    "print(a.count(1))\n",
    "a.extend([4,5])\n",
    "a"
   ]
  },
  {
   "cell_type": "markdown",
   "metadata": {},
   "source": [
    "## 02-4 튜플\n",
    "몇가지 빼고 리스트와 비슷함 \n",
    "- ()로 둘러싼다(그러나 괄호 생략 가능)\n",
    "- 1개 요소만 가질 때는 (1, ) 처럼 요소뒤에 ,를붙여야함\n",
    "- **튜플은 항목 값을 바꿀수 없다(리스트는 가능)**\n",
    "    - 따라서 수시로 그 값을 변화시켜야 하는 경우엔 리스트를 사용해야함"
   ]
  },
  {
   "cell_type": "code",
   "execution_count": 52,
   "metadata": {},
   "outputs": [
    {
     "name": "stdout",
     "output_type": "stream",
     "text": [
      "1\n",
      "(1,)\n"
     ]
    }
   ],
   "source": [
    "# 단일요소 - , 반드시 붙여야\n",
    "t1 = 1\n",
    "t2 = 1,\n",
    "print(t1)  #,안붙이면 그냥 정수임\n",
    "print(t2)  #, 붙이면 튜플형태"
   ]
  },
  {
   "cell_type": "code",
   "execution_count": 57,
   "metadata": {},
   "outputs": [
    {
     "name": "stdout",
     "output_type": "stream",
     "text": [
      "2 3\n"
     ]
    }
   ],
   "source": [
    "# 튜플 변경하려할 때 - 오류발생\n",
    "t1 = 1,2,3\n",
    "# del t1[0]\n",
    "\n",
    "\n",
    "a = 3\n",
    "b = 2\n",
    "a,b = b,a\n",
    "print(a,b) "
   ]
  },
  {
   "cell_type": "code",
   "execution_count": 61,
   "metadata": {},
   "outputs": [
    {
     "data": {
      "text/plain": [
       "(1, 2, 3, 4)"
      ]
     },
     "execution_count": 61,
     "metadata": {},
     "output_type": "execute_result"
    }
   ],
   "source": [
    "#1,2,3 -> 1,2,3,4\n",
    "a=1,2,3\n",
    "a+(4,)"
   ]
  },
  {
   "cell_type": "code",
   "execution_count": null,
   "metadata": {},
   "outputs": [],
   "source": []
  }
 ],
 "metadata": {
  "kernelspec": {
   "display_name": "Python 3 (ipykernel)",
   "language": "python",
   "name": "python3"
  },
  "language_info": {
   "codemirror_mode": {
    "name": "ipython",
    "version": 3
   },
   "file_extension": ".py",
   "mimetype": "text/x-python",
   "name": "python",
   "nbconvert_exporter": "python",
   "pygments_lexer": "ipython3",
   "version": "3.7.16"
  },
  "vscode": {
   "interpreter": {
    "hash": "f08154012ddadd8e950e6e9e035c7a7b32c136e7647e9b7c77e02eb723a8bedb"
   }
  }
 },
 "nbformat": 4,
 "nbformat_minor": 4
}
