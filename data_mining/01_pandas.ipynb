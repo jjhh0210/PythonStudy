{
 "cells": [
  {
   "cell_type": "markdown",
   "id": "0cd44734-62a5-4a5d-a403-65880da89e27",
   "metadata": {},
   "source": [
    "# Pandas 실습"
   ]
  },
  {
   "cell_type": "code",
   "execution_count": null,
   "id": "2214686d-3a4d-4776-bd23-d745009d931b",
   "metadata": {},
   "outputs": [],
   "source": []
  }
 ],
 "metadata": {
  "kernelspec": {
   "display_name": "Python 3 (ipykernel)",
   "language": "python",
   "name": "python3"
  },
  "language_info": {
   "codemirror_mode": {
    "name": "ipython",
    "version": 3
   },
   "file_extension": ".py",
   "mimetype": "text/x-python",
   "name": "python",
   "nbconvert_exporter": "python",
   "pygments_lexer": "ipython3",
   "version": "3.7.16"
  }
 },
 "nbformat": 4,
 "nbformat_minor": 5
}
