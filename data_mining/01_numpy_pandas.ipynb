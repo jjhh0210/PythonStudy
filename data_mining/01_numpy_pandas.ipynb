{
 "cells": [
  {
   "cell_type": "markdown",
   "id": "5d99b07d-ca71-4b82-b442-62ad7ce3905a",
   "metadata": {},
   "source": [
    "# numpy 실습\n"
   ]
  },
  {
   "cell_type": "code",
   "execution_count": 2,
   "id": "42628d5c-ef21-4025-8502-7b39179cb539",
   "metadata": {},
   "outputs": [],
   "source": [
    "import numpy as np"
   ]
  },
  {
   "cell_type": "code",
   "execution_count": 6,
   "id": "df2a1ed3-e58f-4d2c-8d14-17528dde7b33",
   "metadata": {},
   "outputs": [
    {
     "name": "stdout",
     "output_type": "stream",
     "text": [
      "[[ 1  2  3]\n",
      " [ 4  5  6]\n",
      " [ 7  8  9]\n",
      " [10 11 12]]\n"
     ]
    }
   ],
   "source": [
    "a = np.array([[1,2,3],\n",
    "            [4,5,6],\n",
    "            [7,8,9],\n",
    "             [10,11,12]])\n",
    "print(a)"
   ]
  },
  {
   "cell_type": "code",
   "execution_count": 9,
   "id": "121e66ac-86d7-40eb-aa82-c456eee289ce",
   "metadata": {},
   "outputs": [
    {
     "name": "stdout",
     "output_type": "stream",
     "text": [
      "a shape = (4, 3)\n",
      "[[ 1  2]\n",
      " [ 3  4]\n",
      " [ 5  6]\n",
      " [ 7  8]\n",
      " [ 9 10]\n",
      " [11 12]]\n",
      "\n",
      "[[ 1  2  3  4]\n",
      " [ 5  6  7  8]\n",
      " [ 9 10 11 12]]\n"
     ]
    }
   ],
   "source": [
    "#reshape(x,y) -> x,y는 전체 요소의 개수의 약수의 형태여야 한다.\n",
    "print(\"a shape = {}\".format(a.shape))\n",
    "b = a.reshape(6,2)\n",
    "print(b)\n",
    "\n",
    "print()\n",
    "#-1로 한쪽만 지정할 수 있음\n",
    "print(a.reshape(3,-1))"
   ]
  },
  {
   "cell_type": "markdown",
   "id": "030900cf-d8d4-4b75-bb49-308080805cf2",
   "metadata": {},
   "source": [
    "## 배열 인덱싱&슬라이싱"
   ]
  },
  {
   "cell_type": "code",
   "execution_count": 36,
   "id": "5fa2c88d-9ac3-4cab-989a-fe085416fc4c",
   "metadata": {},
   "outputs": [
    {
     "name": "stdout",
     "output_type": "stream",
     "text": [
      "[[ 1  2  3]\n",
      " [ 4  5  6]\n",
      " [ 7  8  9]\n",
      " [10 11 12]]\n",
      "\n",
      "[7 8 9]\n",
      "\n",
      "[ 3  6  9 12]\n",
      "\n",
      "[[ 3]\n",
      " [ 6]\n",
      " [ 9]\n",
      " [12]]\n",
      "\n",
      "[[7 8 9]]\n",
      "\n",
      "[[1 2 3]\n",
      " [4 5 6]]\n",
      "\n",
      "[2 3]\n",
      "\n",
      "[[2 3]]\n"
     ]
    }
   ],
   "source": [
    "#a[행,열] -> 행은 생략 불가(:처리), 열은 생략 가능\n",
    "\n",
    "#인덱싱\n",
    "print(a)\n",
    "print()\n",
    "print(a[2]) # [값, 범위] -> 1차원\n",
    "print()\n",
    "print(a[:,2]) # [범위, 값] -> 1차원\n",
    "print()\n",
    "print(a[:,[2]]) # [범위, 범위] ->2차원\n",
    "print()\n",
    "print(a[[2]]) # [범위, 범위] ->2차원 (생략도 :라는 범위니까!)\n",
    "print()\n",
    "print(a[[0,1]])\n",
    "print()\n",
    "print(a[[0],[1,2]]) # list,list -> 1차원 [2,3]\n",
    "print()\n",
    "print(a[[0],1:]) # -> list, 범위 -> 2차원"
   ]
  },
  {
   "cell_type": "code",
   "execution_count": 38,
   "id": "8da81ef2-bb87-4996-ac99-ade80f2eb538",
   "metadata": {},
   "outputs": [
    {
     "name": "stdout",
     "output_type": "stream",
     "text": [
      "[[1 2 3]\n",
      " [4 5 6]\n",
      " [7 8 9]]\n",
      "\n",
      "5\n",
      "[5]\n",
      "[[5]]\n"
     ]
    }
   ],
   "source": [
    "#정리\n",
    "b = np.array([[1,2,3],\n",
    "             [4,5,6],\n",
    "             [7,8,9]])\n",
    "print(b)\n",
    "print()\n",
    "print(a[1,1])    #단일값\n",
    "print(a[[1],[1]])#1차원\n",
    "print(a[[1],1:2])#2차원\n"
   ]
  },
  {
   "cell_type": "markdown",
   "id": "2cab3c93-826b-47ea-aad5-6861c356328d",
   "metadata": {},
   "source": [
    "## 조건 조회\n",
    "- a[조건문] -> boolean 배열 [True, False, .... True] -> 이 중 true인 요소만 조회 "
   ]
  },
  {
   "cell_type": "code",
   "execution_count": 47,
   "id": "14d21637-be95-4e2a-abab-48f18779c8d5",
   "metadata": {},
   "outputs": [
    {
     "name": "stdout",
     "output_type": "stream",
     "text": [
      "[[ True False  True False False False]\n",
      " [ True False  True False False False]]\n",
      "[78 84 82 96]\n",
      "[82 96]\n"
     ]
    }
   ],
   "source": [
    "# 2차원 배열 만들기\n",
    "score= np.array([[78, 91, 84, 89, 93, 65],\n",
    "                 [82, 87, 96, 79, 91, 73]])\n",
    "\n",
    "#조건 배열\n",
    "print(score%2==0)\n",
    "\n",
    "# 짝수만 조회\n",
    "print(score[score%2==0])\n",
    "\n",
    "# 2번째 행에서 짝수만 조회\n",
    "print(score[1][score[1]%2==0])"
   ]
  },
  {
   "cell_type": "markdown",
   "id": "beafc749-6711-4bae-8d4f-89d39ba27c46",
   "metadata": {},
   "source": [
    "## 배열 연산 및 집계\n",
    "- 그 중 배열 집계 실습\n",
    "- np.sum(), 혹은 array.sum()\n",
    "    * axis = 0 : 행이 늘어나는 방향 = 열 기준 집계\n",
    "    * axis = 1 : 열이 늘어나는 방향 = 행 기준 집계\n",
    "    * 생략하면 : 전체 집계\n",
    "- 동일한 형태로 사용 가능한 함수 : np.max(), np.min, np.mean(), np.std()"
   ]
  },
  {
   "cell_type": "code",
   "execution_count": 44,
   "id": "50b938e2-ad3f-48e5-b7bc-fb3c0911eb68",
   "metadata": {},
   "outputs": [
    {
     "name": "stdout",
     "output_type": "stream",
     "text": [
      "[[ 1  2  3]\n",
      " [ 4  5  6]\n",
      " [ 7  8  9]\n",
      " [10 11 12]]\n",
      "78\n",
      "[22 26 30]\n",
      "[ 6 15 24 33]\n"
     ]
    }
   ],
   "source": [
    "print(a)\n",
    "\n",
    "# 전체 집계\n",
    "print(np.sum(a))\n",
    "\n",
    "# 열기준 집계\n",
    "print(np.sum(a, axis = 0))\n",
    "\n",
    "# 행기준 집계\n",
    "print(np.sum(a, axis = 1))"
   ]
  },
  {
   "cell_type": "code",
   "execution_count": 45,
   "id": "a6792b7b-0bf9-4726-af29-c92850974410",
   "metadata": {},
   "outputs": [
    {
     "name": "stdout",
     "output_type": "stream",
     "text": [
      "[[ 1  2  3]\n",
      " [ 4  5  6]\n",
      " [ 7  8  9]\n",
      " [10 11 12]]\n",
      "11\n",
      "[3 3 3]\n",
      "[2 2 2 2]\n"
     ]
    }
   ],
   "source": [
    "# argmax - 최대값의 index\n",
    "\n",
    "print(a)\n",
    "# 전체 중에서 가장 큰 값의 인덱스\n",
    "print(np.argmax(a))\n",
    "\n",
    "# 행 방향 최대값의 인덱스\n",
    "print(np.argmax(a, axis = 0))\n",
    "\n",
    "# 열 방향 최대값의 인덱스\n",
    "print(np.argmax(a, axis = 1))\n"
   ]
  },
  {
   "cell_type": "code",
   "execution_count": null,
   "id": "95713c85-d0e0-4ede-b15c-4e8bf100b2a6",
   "metadata": {},
   "outputs": [],
   "source": []
  }
 ],
 "metadata": {
  "kernelspec": {
   "display_name": "Python 3 (ipykernel)",
   "language": "python",
   "name": "python3"
  },
  "language_info": {
   "codemirror_mode": {
    "name": "ipython",
    "version": 3
   },
   "file_extension": ".py",
   "mimetype": "text/x-python",
   "name": "python",
   "nbconvert_exporter": "python",
   "pygments_lexer": "ipython3",
   "version": "3.7.16"
  }
 },
 "nbformat": 4,
 "nbformat_minor": 5
}
