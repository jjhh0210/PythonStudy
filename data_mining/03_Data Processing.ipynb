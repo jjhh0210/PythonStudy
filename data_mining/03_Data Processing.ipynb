{
 "cells": [
  {
   "cell_type": "markdown",
   "id": "9b3452dd-4d9a-4860-9d94-32ea0fa623dc",
   "metadata": {},
   "source": [
    "# 데이터 처리"
   ]
  },
  {
   "cell_type": "markdown",
   "id": "bffca61d-15bd-40cd-8f05-54c33068c0de",
   "metadata": {},
   "source": [
    "## 데이터 프레임 변경\n",
    "- 열이름 변경\n",
    "    - df.rename(columns = {'기존이름' : '새이름', ...}, inplace = )\n",
    "        - **inplace = False(디폴트) : 변경 없이 조회만**\n",
    "        - **inplace = True : 진짜 원본 변경!!**\n",
    "- 열 추가\n",
    "    - df['새로운열'] = 열내용 : 맨 뒤에 열 추가\n",
    "        - ex) df['C'] = df['B'] + df['A']\n",
    "    - df.insert(추가할 위치, 새로운 열이름, 열 내용) : 원하는 위치에 열 추가\n",
    "        - ex) df.insert(1,'C',df['A']+df['B'])\n",
    "- 열 삭제\n",
    "    - df.drop('삭제할 열이름', **axis = 1** , inplace = )\n",
    "        - **axis = 1 반드시 기재해야**\n",
    "        - 여러개 삭제하려면 삭제할 열이름을 list로!\n",
    "- 행 추가\n",
    "    - df = df.append(딕셔너리형태데이터 , ignore_index=True)\n",
    "    - df.loc[len(df)] = [행 데이터] : 행데이터를 리스트로 만들어줘야함\n",
    "- 행 삭제\n",
    "    - df.drop(**행인덱스**, axis = 0, inplace = )\n",
    "        - axis = 0은 디폴트이므로 생략 가능\n",
    "- 열 값 변경 \n",
    "    - df['열'] = 3 : 열 전체 값 3으로 변경\n",
    "    - df.loc[행 조건, 열] = 3 : 조건 만족하는 데이터만 열 값을 3으로 변경\n",
    "    - **df['열'] = np.where(조건,참일때값,아닐때값)** <-많이씀!\n",
    "    - df['열'].map({'A':1,'B':2}) :열의 A를 1로, B를 2로 변경  \n",
    "        - 범주형 값을 다른값으로 변경할 때 사용!\n",
    "    - df.replace({’컬럼’: {’문자열’ : ‘대체 문자열’}})\n",
    "        - 문자열 값 변경\n",
    "    - pd.cut(df['열'],몇등분, labels=['c','d','e'])\n",
    "        - 숫자형 변수 -> 범주형 변수로 변환\n",
    "        \n",
    "- 데이터 타입 변경\n",
    "    - df.astype({'column' : 'type'})\n",
    "        "
   ]
  },
  {
   "cell_type": "markdown",
   "id": "d894b5af-9355-494f-8178-56e9c182b0b3",
   "metadata": {},
   "source": []
  }
 ],
 "metadata": {
  "kernelspec": {
   "display_name": "Python 3 (ipykernel)",
   "language": "python",
   "name": "python3"
  },
  "language_info": {
   "codemirror_mode": {
    "name": "ipython",
    "version": 3
   },
   "file_extension": ".py",
   "mimetype": "text/x-python",
   "name": "python",
   "nbconvert_exporter": "python",
   "pygments_lexer": "ipython3",
   "version": "3.9.13"
  }
 },
 "nbformat": 4,
 "nbformat_minor": 5
}
