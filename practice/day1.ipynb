{
 "cells": [
  {
   "cell_type": "markdown",
   "metadata": {},
   "source": [
    "# Python 알고리즘 실습"
   ]
  },
  {
   "cell_type": "markdown",
   "metadata": {},
   "source": [
    "### 미니1) 네 정수의 최대값 구하기"
   ]
  },
  {
   "cell_type": "code",
   "execution_count": 2,
   "metadata": {},
   "outputs": [
    {
     "name": "stdout",
     "output_type": "stream",
     "text": [
      "정수 4개를 입력하세요\n",
      "6\n"
     ]
    }
   ],
   "source": [
    "def max4(a,b,c,d):\n",
    "    max = a\n",
    "    if b > max :\n",
    "        max = b\n",
    "    if c > max : \n",
    "        max = c\n",
    "    if d > max : \n",
    "        max = d\n",
    "    return max\n",
    "\n",
    "print('정수 4개를 입력하세요')\n",
    "a = int(input('a:')) #사용자 input 형태는 문자열이므로 int 형변환 필요\n",
    "b = int(input('b:'))\n",
    "c = int(input('c:'))\n",
    "d = int(input('d:'))\n",
    "\n",
    "print(max4(a,b,c,d))"
   ]
  },
  {
   "cell_type": "markdown",
   "metadata": {},
   "source": [
    "### 미니2) 각 수도 회사별 요금 계산\n",
    "- 조건문 연습\n",
    "- 다음은 A, B 두 수도 회사의 요금 체계이다.      \n",
    "A: 1L 당 요금 100원,    \n",
    "B: 50리터 이하 1L당 요금 150원, 50리터 초과는 1L당 75원\n",
    "- 수도 회사와 수도 사용량을 입력 받아서 지불 해야하는 수도 요금을 계산하는\n",
    "waterPay( )를 만들고, 수도 회사와 수도 사용량을 입력 받아 요금을 출력하라. "
   ]
  },
  {
   "cell_type": "code",
   "execution_count": 8,
   "metadata": {},
   "outputs": [
    {
     "name": "stdout",
     "output_type": "stream",
     "text": [
      "수도요금은 11250원 입니다.\n"
     ]
    }
   ],
   "source": [
    "def waterPay(com,usage):\n",
    "    charge = 0  #초기화\n",
    "    \n",
    "    if com == 'A':\n",
    "        charge = usage*100\n",
    "    else :\n",
    "        if usage<=50 :\n",
    "            charge = usage*150\n",
    "        else :\n",
    "            charge = 50*150 + (usage-50)*75\n",
    "        \n",
    "    return charge\n",
    "\n",
    "com = input('수도회사:')\n",
    "usage = int(input('수도 사용량:'))\n",
    "print(f'수도요금은 {waterPay(com,usage)}원 입니다.')         \n",
    "    "
   ]
  },
  {
   "cell_type": "markdown",
   "metadata": {},
   "source": [
    "### 미니3)\n",
    "- 반복문 연습\n",
    "- a부터 b까지의 합 구하기\n"
   ]
  },
  {
   "cell_type": "code",
   "execution_count": 10,
   "metadata": {},
   "outputs": [
    {
     "name": "stdout",
     "output_type": "stream",
     "text": [
      "1 + 2 + 3 + 4 + 5 + 6 + 7 + 8 + 9 = 45\n"
     ]
    }
   ],
   "source": [
    "sum=0\n",
    "a = int(input('a:'))\n",
    "b = int(input('b:'))\n",
    "\n",
    "if a>b :\n",
    "    a,b=b,a\n",
    "\n",
    "for i in range(a,b):\n",
    "    print(f'{i} + ',end='')\n",
    "    sum+=i\n",
    "    \n",
    "print(f'{b} = {sum+b}')\n",
    "    "
   ]
  },
  {
   "cell_type": "markdown",
   "metadata": {},
   "source": [
    "### 미니4) 두 변의 길이 경우의 수 구하기\n",
    "- 앞 페이지의 코드에서는 두 변의 길이 순서를 고려하지 않고 가능한 조합만\n",
    "표시되었다. 앞 변과 뒷 변의 길이를 고려하여 가능한 모든 경우가 표시되게\n",
    "수정하여라."
   ]
  },
  {
   "cell_type": "code",
   "execution_count": 17,
   "metadata": {},
   "outputs": [
    {
     "name": "stdout",
     "output_type": "stream",
     "text": [
      "1 x 32\n",
      "2 x 16\n",
      "4 x 8\n",
      "8 x 4\n",
      "16 x 2\n",
      "32 x 1\n"
     ]
    }
   ],
   "source": [
    "area = int(input('직사각형의 넓이를 입력하세요: '))\n",
    "for i in range(1,area+1) :\n",
    "    # if i*i > area : break #가능한 변의 길이 중복 없이 나열.,. 이거 없으면 중복 o\n",
    "    if area%i : continue\n",
    "    print(f'{i} x {area//i}')"
   ]
  },
  {
   "cell_type": "markdown",
   "metadata": {},
   "source": [
    "### 실습1)\n",
    "- 전기요금 계산 실습"
   ]
  },
  {
   "cell_type": "code",
   "execution_count": 3,
   "metadata": {},
   "outputs": [
    {
     "name": "stdout",
     "output_type": "stream",
     "text": [
      "전기사용량 : 250\n",
      "33717원\n"
     ]
    }
   ],
   "source": [
    "def electricPay(usage) :\n",
    "    sum = 0\n",
    "    if usage < 100 :\n",
    "        sum+= 410 + usage*60.7\n",
    "    elif usage<=200 :\n",
    "        sum+= 910 + 100*60.7+ (usage-100)*125.9\n",
    "    else : \n",
    "        sum+= 1600 + 100*60.7 + 100*125.9+(usage-200)*187.9\n",
    "    sum+=sum*0.137    \n",
    "    return int(sum)\n",
    "\n",
    "usage = int(input('전기사용량 : '))\n",
    "print(f'{electricPay(usage)}원')         "
   ]
  },
  {
   "cell_type": "markdown",
   "metadata": {},
   "source": [
    "### 실습2)\n",
    "- +랑 -를 번갈아 출력하려고 할 때, 몇개를 출력할지는 입력을 받아 입력된 개수만큼 출력하라."
   ]
  },
  {
   "cell_type": "code",
   "execution_count": 1,
   "metadata": {},
   "outputs": [
    {
     "name": "stdout",
     "output_type": "stream",
     "text": [
      "몇 개를 출력할까요?13\n",
      "+-+-+-+-+-+-+\n"
     ]
    }
   ],
   "source": [
    "n = int(input('몇 개를 출력할까요?'))\n",
    "for _ in range(n//2) : \n",
    "    print('+-',end='')\n",
    "if n%2 : print('+')"
   ]
  },
  {
   "cell_type": "code",
   "execution_count": 2,
   "metadata": {},
   "outputs": [
    {
     "name": "stdout",
     "output_type": "stream",
     "text": [
      "몇 개를 출력할까요?13\n",
      "+-*+-*+-*+-*+\n"
     ]
    }
   ],
   "source": [
    "#+,-,* 3개 번갈아 출력하기\n",
    "n = int(input('몇 개를 출력할까요?'))\n",
    "for _ in range(n//3) : \n",
    "    print('+-*',end='')\n",
    "if n%3==1 : print('+')\n",
    "elif n%3==2 : print('+-')"
   ]
  },
  {
   "cell_type": "markdown",
   "metadata": {},
   "source": [
    "### 실습3)\n",
    "- 1~12 까지를 FOR 루프를 활용하여 8을 건너뛰고 출력하라"
   ]
  },
  {
   "cell_type": "code",
   "execution_count": 9,
   "metadata": {},
   "outputs": [
    {
     "name": "stdout",
     "output_type": "stream",
     "text": [
      "1 2 3 4 5 6 7 9 10 11 12 "
     ]
    }
   ],
   "source": [
    "for i in range(1,13):\n",
    "    if i==8 : continue\n",
    "    #print(\"{} \".format(i),end = '')\n",
    "    print(i,end=' ')"
   ]
  },
  {
   "cell_type": "markdown",
   "metadata": {},
   "source": [
    "### 실습4)\n",
    "- 입력값 n이 root의 pwr제곱으로 표현될 수 있는지 확인하기"
   ]
  },
  {
   "cell_type": "code",
   "execution_count": 2,
   "metadata": {},
   "outputs": [
    {
     "name": "stdout",
     "output_type": "stream",
     "text": [
      "값을 입력하세요 : 64\n",
      "4**3 = 64\n",
      "8**2 = 64\n"
     ]
    }
   ],
   "source": [
    "n = int(input(\"값을 입력하세요 : \"))\n",
    "\n",
    "flag = 0\n",
    "for root in range(2,int(n**(1/2))+1) :\n",
    "    for pwr in range(2,6) : \n",
    "        if( root**pwr == n) : \n",
    "            print(\"{}**{} = {}\".format(root,pwr,n))\n",
    "            flag = 1\n",
    "if flag==0 :\n",
    "    print(\"결과없음\")"
   ]
  },
  {
   "cell_type": "markdown",
   "metadata": {},
   "source": [
    "# 추가실습"
   ]
  },
  {
   "cell_type": "markdown",
   "metadata": {},
   "source": [
    "### Q0\n",
    "\n",
    "### 두 정수의 최대공약수를 구하라. 최대공약수는 두 정수를 나머지가 0이 되게 나누는 공통된 약수 중 최대값을 가진 수이다. \n",
    "\n",
    "### 예\n",
    "- 12, 16의 최대공약수 4\n",
    "- 2, 4의 최대공약수 2\n",
    "\n",
    "### tips\n",
    "- if 문에 조건이 두 개인 경우는 and 또는 or 논리연산자 사용\n",
    "\n",
    "### 제한사항 \n",
    "- 두 정수는 서로 다른 수이다."
   ]
  },
  {
   "cell_type": "code",
   "execution_count": 7,
   "metadata": {},
   "outputs": [
    {
     "name": "stdout",
     "output_type": "stream",
     "text": [
      "a: 64\n",
      "b: 36\n",
      "4\n"
     ]
    }
   ],
   "source": [
    "# Q0 Answer template\n",
    "\n",
    "def solution(a, b):\n",
    "    maxCommon = -1\n",
    "    if a>b : a,b = b,a #작은게 a가 되도록\n",
    "    for i in range(a,0,-1) : #범위 :둘 중 작은 수 부터 1까지\n",
    "        if a%i==0 and b%i==0 :\n",
    "            maxCommon = i\n",
    "            break    # 가장 먼저 나오는 수가 최대공약수\n",
    "    return maxCommon\n",
    "\n",
    "a = int(input('a: '))\n",
    "b = int(input('b: '))\n",
    "c = solution(a,b)\n",
    "print(c)\n"
   ]
  },
  {
   "cell_type": "markdown",
   "metadata": {},
   "source": [
    "### Q1\n",
    "\n",
    "### 두 정수의 최소공배수를 구하라. 최소공배수는 두 정수의 배수인 수 중 최솟값을 가진 값을 수이다.\n",
    "\n",
    "### 예\n",
    "- 12, 16의 최소공배수 48\n",
    "- 2, 4의 최소공배수 4\n",
    "\n",
    "### tips\n",
    "- if 문에 조건이 두 개인 경우는 and 또는 or 논리연산자 사용\n",
    "\n",
    "\n",
    "### 제한사항 \n",
    "- 두 정수는 서로 다른 수이다."
   ]
  },
  {
   "cell_type": "code",
   "execution_count": 9,
   "metadata": {},
   "outputs": [
    {
     "name": "stdout",
     "output_type": "stream",
     "text": [
      "a: 12\n",
      "b: 16\n",
      "48\n"
     ]
    }
   ],
   "source": [
    "# Q1 Answer template\n",
    "# 두개의 정수 중 큰 애부터 시작!!\n",
    "def solution(a, b):\n",
    "    if a>b:\n",
    "        a,b=b,a\n",
    "    for i in range(b,a*b+1):  #범위 :둘 중 큰 수 부터 두 수 곱한것 까지\n",
    "        if i%a ==0 and i%b ==0:\n",
    "            answer=i\n",
    "            break\n",
    "    return answer\n",
    "\n",
    "a = int(input('a: '))\n",
    "b = int(input('b: '))\n",
    "c = solution(a,b)\n",
    "print(c)"
   ]
  },
  {
   "cell_type": "markdown",
   "metadata": {},
   "source": [
    "### Q2 (https://www.acmicpc.net/problem/1110)\n",
    "\n",
    "### 0보다 크거나 같고, 99보다 작거나 같은 정수가 주어질 때 다음과 같은 연산을 할 수 있다. 먼저 주어진 수가 10보다 작다면 앞에 0을 붙여 두 자리 수로 만들고, 각 자리의 숫자를 더한다. 그 다음, 주어진 수의 가장 오른쪽 자리 수와 앞에서 구한 합의 가장 오른쪽 자리 수를 이어 붙이면 새로운 수를 만들 수 있다. 다음 예를 보자.\n",
    "### 26부터 시작한다. 2+6 = 8이다. 새로운 수는 68이다. 6+8 = 14이다. 새로운 수는 84이다. 8+4 = 12이다. 새로운 수는 42이다. 4+2 = 6이다. 새로운 수는 26이다.\n",
    "### 위의 예는 4번만에 원래 수로 돌아올 수 있다. 따라서 26의 사이클의 길이는 4이다.\n",
    "### N이 주어졌을 때, N의 사이클의 길이를 구하는 프로그램을 작성하시오.\n",
    "\n",
    "### 입력\n",
    "- 첫째 줄에 N이 주어진다. N은 0보다 크거나 같고, 99보다 작거나 같은 정수이다.\n",
    "### 출력\n",
    "- 첫째 줄에 N의 사이클 길이를 출력한다.\n",
    "\n",
    "### 입출력 예\n",
    "|입력 |출력\n",
    "|----|----\n",
    "|26|4\n",
    "|55|3\n",
    "|1|60\n",
    "|0|1\n",
    "|71|12\n"
   ]
  },
  {
   "cell_type": "code",
   "execution_count": 25,
   "metadata": {},
   "outputs": [
    {
     "name": "stdout",
     "output_type": "stream",
     "text": [
      "71\n",
      "12\n"
     ]
    }
   ],
   "source": [
    "#숫자로 다루기\n",
    "n = int(input())\n",
    "count = 0\n",
    "newN = n\n",
    "\n",
    "while True :\n",
    "    a = newN%10\n",
    "    b = ((newN//10)+(newN%10))%10\n",
    "    newN = a*10+b\n",
    "    count+=1\n",
    "    if newN==n : #조건이 맨 앞에 있으면. \n",
    "        break\n",
    "\n",
    "\n",
    "print(count)"
   ]
  },
  {
   "cell_type": "code",
   "execution_count": 27,
   "metadata": {},
   "outputs": [
    {
     "name": "stdout",
     "output_type": "stream",
     "text": [
      "26\n"
     ]
    },
    {
     "ename": "TypeError",
     "evalue": "'int' object is not subscriptable",
     "output_type": "error",
     "traceback": [
      "\u001b[1;31m---------------------------------------------------------------------------\u001b[0m",
      "\u001b[1;31mTypeError\u001b[0m                                 Traceback (most recent call last)",
      "Cell \u001b[1;32mIn[27], line 10\u001b[0m\n\u001b[0;32m      8\u001b[0m \u001b[38;5;28;01mif\u001b[39;00m \u001b[38;5;28mint\u001b[39m(tmp) \u001b[38;5;241m<\u001b[39m \u001b[38;5;241m10\u001b[39m:\n\u001b[0;32m      9\u001b[0m     tmp \u001b[38;5;241m=\u001b[39m \u001b[38;5;124m'\u001b[39m\u001b[38;5;124m0\u001b[39m\u001b[38;5;124m'\u001b[39m\u001b[38;5;241m+\u001b[39mtmp \u001b[38;5;66;03m# 9 -> 09\u001b[39;00m\n\u001b[1;32m---> 10\u001b[0m \u001b[38;5;28msum\u001b[39m \u001b[38;5;241m=\u001b[39m \u001b[38;5;28mint\u001b[39m(\u001b[43mtmp\u001b[49m\u001b[43m[\u001b[49m\u001b[38;5;241;43m0\u001b[39;49m\u001b[43m]\u001b[49m)\u001b[38;5;241m+\u001b[39m\u001b[38;5;28mint\u001b[39m(tmp[\u001b[38;5;241m1\u001b[39m])\n\u001b[0;32m     11\u001b[0m tmp \u001b[38;5;241m=\u001b[39m \u001b[38;5;28mint\u001b[39m(tmp[\u001b[38;5;241m1\u001b[39m]\u001b[38;5;241m+\u001b[39m\u001b[38;5;28mstr\u001b[39m(\u001b[38;5;28msum\u001b[39m)[\u001b[38;5;241m-\u001b[39m\u001b[38;5;241m1\u001b[39m])\n\u001b[0;32m     12\u001b[0m count\u001b[38;5;241m+\u001b[39m\u001b[38;5;241m=\u001b[39m\u001b[38;5;241m1\u001b[39m\n",
      "\u001b[1;31mTypeError\u001b[0m: 'int' object is not subscriptable"
     ]
    }
   ],
   "source": [
    "# String으로 다루기\n",
    "\n",
    "N = input()\n",
    "tmp=N\n",
    "count = 0\n",
    "\n",
    "while True:\n",
    "    if int(tmp) < 10:\n",
    "        tmp = '0'+tmp # 9 -> 09\n",
    "    sum = int(tmp[0])+int(tmp[1])\n",
    "    tmp = int(tmp[1]+str(sum)[-1])\n",
    "    count+=1\n",
    "    if tmp==N :\n",
    "        break\n",
    "\n",
    "print(count)"
   ]
  },
  {
   "cell_type": "code",
   "execution_count": 30,
   "metadata": {},
   "outputs": [
    {
     "name": "stdout",
     "output_type": "stream",
     "text": [
      "55\n",
      "3\n"
     ]
    }
   ],
   "source": [
    "# 재귀함수\n",
    "\n",
    "def cycle(newN,count) :\n",
    "    if count> 0 and newN == n : \n",
    "        print(count)\n",
    "        return\n",
    "    a = newN%10\n",
    "    b = ((newN//10)+(newN%10))%10\n",
    "    newN = a*10+b\n",
    "    count+=1\n",
    "    cycle(newN,count)\n",
    "\n",
    "n = int(input())\n",
    "cycle(n,0)\n",
    "    "
   ]
  },
  {
   "cell_type": "markdown",
   "metadata": {},
   "source": [
    "### Q4 \n",
    "\n",
    "### 각 자리가 숫자(0부터 9)로만 이루어진 문자열을 사용자로 부터 입력받아, 왼쪽부터 오른쪽으로 하나씩 모든 숫자를 확인하며 숫자 사이에 곱하기(x) 혹은 더하기(+) 연산자를 넣어 결과적으로 만들어질 수 있는 가장 큰 수를 구하는 프로그램을 작성하세요. \n",
    "\n",
    "### 단, + 보다 x 를 먼저 계산하는 일반적인 방식과 달리 모든 연산은 왼쪽에서부터 순서대로 이루어진다고 가정합니다.\n",
    "\n",
    "### 입출력 예\n",
    "### 숫자로 이루어진 문자열을 입력하세요. 02984\n",
    "### 0 + 2 x 9 x 8 x 4  = 576\n",
    "\n",
    "### 숫자로 이루어진 문자열을 입력하세요. 567\n",
    "### 5 x 6 x 7  = 210\n"
   ]
  },
  {
   "cell_type": "code",
   "execution_count": 38,
   "metadata": {},
   "outputs": [
    {
     "name": "stdout",
     "output_type": "stream",
     "text": [
      "숫자로 이루어진 문자열을 입력하세요. 34090\n",
      "3 x 4 + 0 x 9 + 0 = 108\n"
     ]
    }
   ],
   "source": [
    "# Q4 Answer Template\n",
    "# 풀이 -> 두 피연산자 중 하나라도 0 or 1 이면 무조건 더하기, 아니면 무조건 곱하기\n",
    "\n",
    "list = input('숫자로 이루어진 문자열을 입력하세요. ')\n",
    "result = int(list[0])\n",
    "print(result,end='')\n",
    "\n",
    "for i in range(1,len(list)):\n",
    "    tmp = int(list[i])\n",
    "    \n",
    "    if result <=1 or tmp <= 1 :\n",
    "        result += tmp\n",
    "        print(f' + {tmp}',end='')\n",
    "    else : \n",
    "        result *= tmp\n",
    "        print(f' x {tmp}',end='')\n",
    "\n",
    "print(f' = {result}')"
   ]
  },
  {
   "cell_type": "code",
   "execution_count": null,
   "metadata": {},
   "outputs": [],
   "source": []
  }
 ],
 "metadata": {
  "kernelspec": {
   "display_name": "Python 3 (ipykernel)",
   "language": "python",
   "name": "python3"
  },
  "language_info": {
   "codemirror_mode": {
    "name": "ipython",
    "version": 3
   },
   "file_extension": ".py",
   "mimetype": "text/x-python",
   "name": "python",
   "nbconvert_exporter": "python",
   "pygments_lexer": "ipython3",
   "version": "3.7.16"
  },
  "vscode": {
   "interpreter": {
    "hash": "f08154012ddadd8e950e6e9e035c7a7b32c136e7647e9b7c77e02eb723a8bedb"
   }
  }
 },
 "nbformat": 4,
 "nbformat_minor": 2
}
